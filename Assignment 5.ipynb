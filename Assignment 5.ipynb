{
  "nbformat": 4,
  "nbformat_minor": 0,
  "metadata": {
    "colab": {
      "name": "Untitled6.ipynb",
      "provenance": [],
      "authorship_tag": "ABX9TyPkZ6xOM/CS9SiGCs1Wi2yN",
      "include_colab_link": true
    },
    "kernelspec": {
      "name": "python3",
      "display_name": "Python 3"
    },
    "language_info": {
      "name": "python"
    }
  },
  "cells": [
    {
      "cell_type": "markdown",
      "metadata": {
        "id": "view-in-github",
        "colab_type": "text"
      },
      "source": [
        "<a href=\"https://colab.research.google.com/github/ElijahMutua/hello-world/blob/main/Assignment%205.ipynb\" target=\"_parent\"><img src=\"https://colab.research.google.com/assets/colab-badge.svg\" alt=\"Open In Colab\"/></a>"
      ]
    },
    {
      "cell_type": "code",
      "metadata": {
        "colab": {
          "base_uri": "https://localhost:8080/",
          "height": 129
        },
        "id": "ysweXViJgZYq",
        "outputId": "8228b010-2884-4f8b-803c-3acebd053270"
      },
      "source": [
        "def the_options\n",
        "    print(\"[P] options\")\n",
        "    print(\"[P] Print options\")\n",
        "    print(\"[C] Convert from Celsius\")\n",
        "    print(\"[C] Convert from Farenheit\")\n",
        "    print(\"[C] Convert from Miles\")\n",
        "    print(\"[C] Convert from Kilometers\")\n",
        "    print(\"[C] Convert from Inches\")\n",
        "    print(\"[C] Convert from Centimeters\")\n",
        "    print(\"[Q] Quit\")\n",
        "\n",
        "num1 = input(\"enter the value\")\n",
        "unit1 = input(\"Enter unit you want converted from: \")\n",
        "unit2 = input(\"Enter unit you want converted to: \")\n",
        "if unit1 == \"F\" and unit2 == \"°C\"\n",
        "    answer = str(float(\"num1\" - 32)*5/9)\n",
        "    print(answer)\n",
        "elif unit1 == \"°C\" and unit2 == \"F\"\n",
        "    answer = str(float(\"num1\" * \"9/5\") + 32)\n",
        "    print(answer)\n",
        "elif unit1 == \"Nautical mile\" and unit2 == \"Km\"\n",
        "    answer = str(float(\"num1\"* 1.852))\n",
        "    print(answer)\n",
        "elif unit1 == \"Km\" and unit2 == \"Nautical mile\"\n",
        "    answer = str(float(\"num1\" / 1.852))\n",
        "    print(answer)\n",
        "elif unit1 == \"Km\" and unit2 == \"mi\"\n",
        "    answer = str(float(\"num1\"/1.609))\n",
        "    print(answer)\n",
        "elif unit1 == \"mi\" and unit2 == \"Km\"\n",
        "    answer = float(\"num1\" * 1.609)\n",
        "    print(answer)\n",
        "elif unit1 == \"cm\" and unit2 == \"m\"\n",
        "    answer = float(\"num1\" /100)\n",
        "    print(answer)\n",
        "elif unit1 == \"m\" and unit2 == \"cm\"\n",
        "    answer = float(\"num1\" * 100)\n",
        "    print(answer)\n",
        "elif unit1 == \"yd\" and unit2 == \"m\"\n",
        "    answer = float(\"num1\" / 1.094)\n",
        "    print(answer)\n",
        "elif unit1 == \"m\" and unit2 == \"yd\"\n",
        "    answer = float(\"num1\" * 1.094)\n",
        "    print(answer)\n",
        "elif unit1 == \"in\" and unit2 == \"cm\"\n",
        "    answer = float(\"num1\" * 2.54)\n",
        "    print(answer)\n",
        "elif unit1 == \"cm\" and unit2 == \"in\"\n",
        "    answer = float(\"num1\" / 2.54)\n",
        "    print(answer)\n",
        "else print(Not valid)\n",
        "\n",
        "\n",
        "\n",
        "\n",
        "\n",
        "\n",
        "\n",
        "\n"
      ],
      "execution_count": 4,
      "outputs": [
        {
          "output_type": "error",
          "ename": "IndentationError",
          "evalue": "ignored",
          "traceback": [
            "\u001b[0;36m  File \u001b[0;32m\"<ipython-input-4-8dd2a22d1f5a>\"\u001b[0;36m, line \u001b[0;32m2\u001b[0m\n\u001b[0;31m    print(\"[P] options\")\u001b[0m\n\u001b[0m    ^\u001b[0m\n\u001b[0;31mIndentationError\u001b[0m\u001b[0;31m:\u001b[0m unexpected indent\n"
          ]
        }
      ]
    }
  ]
}